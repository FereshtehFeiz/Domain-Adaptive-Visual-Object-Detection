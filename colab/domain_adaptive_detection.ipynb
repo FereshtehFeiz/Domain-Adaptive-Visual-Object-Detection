{
  "nbformat": 4,
  "nbformat_minor": 0,
  "metadata": {
    "accelerator": "GPU",
    "colab": {
      "name": "domain_adaptive_detection.ipynb",
      "provenance": [],
      "collapsed_sections": [],
      "toc_visible": true
    },
    "kernelspec": {
      "display_name": "Python 3",
      "name": "python3"
    }
  },
  "cells": [
    {
      "cell_type": "markdown",
      "metadata": {
        "id": "_A7VlxPP6kEG"
      },
      "source": [
        "## Setup"
      ]
    },
    {
      "cell_type": "code",
      "metadata": {
        "id": "UWEdkCEK5gff"
      },
      "source": [
        "# Credit to the original implementation @ github.com/lufficc/SSD\n",
        "!git clone https://github.com/zappavignandrea/SSD.git\n",
        "\n",
        "# Required packages: torch torchvision yacs tqdm opencv-python vizer\n",
        "!pip install -r SSD/requirements.txt\n",
        "\n",
        "# SSD - Done! That's ALL! No BUILD! No bothering SETUP!\n",
        "%cd SSD/\n",
        "!ls"
      ],
      "execution_count": null,
      "outputs": []
    },
    {
      "cell_type": "code",
      "metadata": {
        "id": "OhGINkNp7OAY"
      },
      "source": [
        "# Credit to the original implementation @ github.com/naoto0804/pytorch-AdaIN\n",
        "!git clone https://github.com/zappavignandrea/pytorch-AdaIN.git\n",
        "\n",
        "# All required packages are already installed\n",
        "# Move inside ssd/engine\n",
        "!mv ./pytorch-AdaIN ./ssd/adain\n",
        "\n",
        "!touch ./ssd/adain/__init__.py\n",
        "!ls ./ssd/adain"
      ],
      "execution_count": null,
      "outputs": []
    },
    {
      "cell_type": "code",
      "metadata": {
        "id": "zVrAdswL_T2j"
      },
      "source": [
        "# Test that model is working\n",
        "!python demo.py --config-file configs/vgg_ssd300_voc0712.yaml --images_dir demo --ckpt https://github.com/lufficc/SSD/releases/download/1.2/vgg_ssd300_voc0712.pth\n",
        "\n",
        "'''\n",
        "Expected output\n",
        "(0001/0005) 004101.jpg: objects 01 | load 010ms | inference 033ms | FPS 31\n",
        "(0002/0005) 003123.jpg: objects 05 | load 009ms | inference 019ms | FPS 53\n",
        "(0003/0005) 000342.jpg: objects 02 | load 009ms | inference 019ms | FPS 51\n",
        "(0004/0005) 008591.jpg: objects 02 | load 008ms | inference 020ms | FPS 50\n",
        "(0005/0005) 000542.jpg: objects 01 | load 011ms | inference 019ms | FPS 53\n",
        "'''"
      ],
      "execution_count": null,
      "outputs": []
    },
    {
      "cell_type": "code",
      "metadata": {
        "id": "37cHAVcq7hEr"
      },
      "source": [
        "# Get PASCAL Visual Object Classes (VOC) trainval split from 2007 and 2012 as source domain\n",
        "# Get Clipart1k dataset as target domain\n",
        "from google.colab import drive\n",
        "drive.mount('/content/drive')\n",
        "\n",
        "# We recommend import from drive"
      ],
      "execution_count": null,
      "outputs": []
    },
    {
      "cell_type": "code",
      "metadata": {
        "id": "ArScIBtK9Wrx"
      },
      "source": [
        "# Set mounted folders from drive as input dataset\n",
        "import os\n",
        "os.environ['VOC_ROOT'] = '../drive/MyDrive/'\n",
        "os.environ['CLIPART_ROOT'] = '../drive/MyDrive/'"
      ],
      "execution_count": null,
      "outputs": []
    },
    {
      "cell_type": "markdown",
      "metadata": {
        "id": "jm1i4IDcrgOq"
      },
      "source": [
        "## Train"
      ]
    },
    {
      "cell_type": "code",
      "metadata": {
        "id": "mLAPfBSdrl6w"
      },
      "source": [
        "# Print settings of current configuration\n",
        "!cat configs/setup_3.yaml"
      ],
      "execution_count": null,
      "outputs": []
    },
    {
      "cell_type": "code",
      "metadata": {
        "id": "7unCVy6ZBGys"
      },
      "source": [
        "# Load again the model, so it can resume training where it stopped\n",
        "# Remember to cancel old models: only the latest one is useful\n",
        "\n",
        "'''\n",
        "The output/config_name folder should contain:\n",
        "last_checkpoint.txt\n",
        "model_030000.pth (latest available)\n",
        "'''\n",
        "\n",
        "# The reference SSD implementation only recoignizes checkpoints from the same config file\n",
        "# If you want to resume training with a different config, skip to Tuning section"
      ],
      "execution_count": null,
      "outputs": []
    },
    {
      "cell_type": "code",
      "metadata": {
        "id": "M6bKMPZ7rmNA"
      },
      "source": [
        "# Train SSD300:\n",
        "!python train.py --config-file configs/setup_3.yaml\n",
        "\n",
        "# If the training interrupts with missing file error, but you have the right setup\n",
        "# it is a google drive caching error. Just execute again and it should work"
      ],
      "execution_count": null,
      "outputs": []
    },
    {
      "cell_type": "code",
      "metadata": {
        "id": "CMIMqOR-reI6"
      },
      "source": [
        "# Remember to save the latest model available on your drive before closing\n",
        "# Or to download locally the zipped folder and upload it before resuming training\n",
        "!zip -r /content/setup_3.zip /content/SSD/outputs/setup_3\n",
        "\n",
        "from google.colab import files\n",
        "files.download(\"/content/setup_3.zip\")"
      ],
      "execution_count": null,
      "outputs": []
    },
    {
      "cell_type": "markdown",
      "metadata": {
        "id": "aU_as8nOAOmt"
      },
      "source": [
        "## Tune"
      ]
    },
    {
      "cell_type": "code",
      "metadata": {
        "id": "s5wLGfXfBH5G"
      },
      "source": [
        "# Print settings of current configuration\n",
        "!cat configs/eval_1.yaml"
      ],
      "execution_count": null,
      "outputs": []
    },
    {
      "cell_type": "code",
      "metadata": {
        "id": "1vLXVY2-BpID"
      },
      "source": [
        "# Set mounted folders from drive as input dataset\n",
        "# If the dataset is the same, skip this step\n",
        "import os\n",
        "os.environ['VOC_ROOT'] = '../drive/MyDrive/'\n",
        "os.environ['CLIPART_ROOT'] = '../drive/MyDrive/'"
      ],
      "execution_count": null,
      "outputs": []
    },
    {
      "cell_type": "code",
      "metadata": {
        "id": "4yj1O7OcCNbP"
      },
      "source": [
        "# Tune SSD300:\n",
        "# Use the ckpt option to load another model weights\n",
        "!python tune.py --config-file configs/eval_1.yaml --ckpt /content/drive/MyDrive/baseline.pth\n",
        "\n",
        "# We make available our baseline model (setup_3), you can find the link @ github.com/zappavignandrea/SSD"
      ],
      "execution_count": null,
      "outputs": []
    },
    {
      "cell_type": "code",
      "metadata": {
        "id": "9H79UYbDHKaR"
      },
      "source": [
        "# Remember to save the latest model available on your drive before closing\n",
        "# Or to download locally the zipped folder and upload it before resuming training\n",
        "!zip -r /content/eval_1.zip /content/SSD/outputs/eval_1\n",
        "\n",
        "from google.colab import files\n",
        "files.download(\"/content/eval_1.zip\")"
      ],
      "execution_count": null,
      "outputs": []
    },
    {
      "cell_type": "markdown",
      "metadata": {
        "id": "NmTg4d9pHHtW"
      },
      "source": [
        "## Style"
      ]
    },
    {
      "cell_type": "code",
      "metadata": {
        "id": "uDWcQGPIHHXD"
      },
      "source": [
        "# Print settings of current configuration\n",
        "!cat configs/style_1.yaml"
      ],
      "execution_count": null,
      "outputs": []
    },
    {
      "cell_type": "code",
      "metadata": {
        "id": "OEi-OX_2HlTR"
      },
      "source": [
        "# Set mounted folders from drive as input dataset\n",
        "# If the dataset is the same, skip this step\n",
        "import os\n",
        "os.environ['VOC_ROOT'] = '../drive/MyDrive/'\n",
        "os.environ['CLIPART_ROOT'] = '../drive/MyDrive/'"
      ],
      "execution_count": null,
      "outputs": []
    },
    {
      "cell_type": "code",
      "metadata": {
        "id": "CXVAP2YFHl-5"
      },
      "source": [
        "# For this step, you must also specify the models used by AdaIN\n",
        "# All credits go to @ github.com/naoto0804/pytorch-AdaIN\n",
        "os.environ['VGG_PATH'] = '../drive/MyDrive/vgg_normalised.pth'\n",
        "os.environ['DECODER_PATH'] = '../drive/MyDrive/decoder.pth'"
      ],
      "execution_count": null,
      "outputs": []
    },
    {
      "cell_type": "code",
      "metadata": {
        "id": "ThQT-BEIIV0D"
      },
      "source": [
        "# Train or Tune SSD300 with style transfer:\n",
        "# Remember to use ckpt option if starting from a different configuration\n",
        "!python tune_with_style.py --config-file configs/style_1.yaml\n",
        "\n",
        "# Since this is slower with respect to the standard configuration\n",
        "# We recommend to lower save-step option"
      ],
      "execution_count": null,
      "outputs": []
    },
    {
      "cell_type": "code",
      "metadata": {
        "id": "F3YZXNxgJJcM"
      },
      "source": [
        "# Remember to save the latest model available on your drive before closing\n",
        "# Or to download locally the zipped folder and upload it before resuming training\n",
        "!zip -r /content/style_1.zip /content/SSD/outputs/style_1\n",
        "\n",
        "from google.colab import files\n",
        "files.download(\"/content/style_1.zip\")"
      ],
      "execution_count": null,
      "outputs": []
    },
    {
      "cell_type": "markdown",
      "metadata": {
        "id": "jwrZWZ6QBoLU"
      },
      "source": [
        "## Test"
      ]
    },
    {
      "cell_type": "code",
      "metadata": {
        "id": "Sco4u8ppwkn6"
      },
      "source": [
        "# Set mounted folders from drive as input dataset\n",
        "# If the dataset remained identical, skip this step\n",
        "import os\n",
        "os.environ['VOC_ROOT'] = '../drive/MyDrive/DA_detection/dataset'\n",
        "os.environ['CLIPART_ROOT'] = '../drive/MyDrive/DA_detection/dataset'"
      ],
      "execution_count": null,
      "outputs": []
    },
    {
      "cell_type": "code",
      "metadata": {
        "id": "Ep_p7yhXBnmd"
      },
      "source": [
        "!python test.py --config-file configs/setup_3.yaml"
      ],
      "execution_count": null,
      "outputs": []
    }
  ]
}